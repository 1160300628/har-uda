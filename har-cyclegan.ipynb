{
 "cells": [
  {
   "cell_type": "markdown",
   "metadata": {
    "colab_type": "text",
    "id": "vGjxwdci2hoW"
   },
   "source": [
    "# HAR-UDA\n",
    "\n",
    "unsupervised cross subjects domain adaptation for human activity recognition based on CycleGAN"
   ]
  },
  {
   "cell_type": "code",
   "execution_count": 0,
   "metadata": {
    "colab": {
     "base_uri": "https://localhost:8080/",
     "height": 34
    },
    "colab_type": "code",
    "id": "AuwMV5SV3EgV",
    "outputId": "d19d1357-65b1-40a0-cd38-f898d89eaf8d"
   },
   "outputs": [
    {
     "name": "stdout",
     "output_type": "stream",
     "text": [
      "2.2.0\n"
     ]
    }
   ],
   "source": [
    "import tensorflow as tf\n",
    "import tensorflow.keras.backend as K\n",
    "from tensorflow.keras.layers import Conv2DTranspose, Lambda\n",
    "\n",
    "import pandas as pd\n",
    "import numpy as np\n",
    "import math\n",
    "from matplotlib import pyplot as plt\n",
    "import collections\n",
    "from sklearn.model_selection import train_test_split\n",
    "from IPython.display import clear_output\n",
    "\n",
    "import os\n",
    "import time\n",
    "\n",
    "import gc\n",
    "\n",
    "print(tf.__version__)"
   ]
  },
  {
   "cell_type": "code",
   "execution_count": null,
   "metadata": {
    "colab": {
     "base_uri": "https://localhost:8080/",
     "height": 122
    },
    "colab_type": "code",
    "id": "FrohmyO3ikRc",
    "outputId": "1f0822ba-fd61-4a05-d8d6-4065f32a3d24"
   },
   "outputs": [],
   "source": [
    "from google.colab import drive\n",
    "drive.mount('/content/gdrive')"
   ]
  },
  {
   "cell_type": "code",
   "execution_count": 0,
   "metadata": {
    "colab": {},
    "colab_type": "code",
    "id": "tYp-Qyz2Ms6T"
   },
   "outputs": [],
   "source": [
    "har_uda_root = '/content/gdrive/My Drive/har-uda/'\n",
    "data_path = har_uda_root+'data/'\n",
    "ckp_path = har_uda_root+'checkpoints/'"
   ]
  },
  {
   "cell_type": "markdown",
   "metadata": {
    "colab_type": "text",
    "id": "V_CZCDZ-3xey"
   },
   "source": [
    "### Load data"
   ]
  },
  {
   "cell_type": "code",
   "execution_count": 0,
   "metadata": {
    "colab": {},
    "colab_type": "code",
    "id": "SCggJ9JLMcYZ"
   },
   "outputs": [],
   "source": [
    "def load_data(sub_id):\n",
    "    name_list = ['data_x_train', 'data_x_val', 'data_x_test', 'data_y_train', 'data_y_val', 'data_y_test']\n",
    "\n",
    "    data = {}\n",
    "    for name in name_list:\n",
    "        save_path = data_path + name + '_{}.npy'.format(sub_id)\n",
    "        data[name] = np.load(save_path)\n",
    "    return data\n",
    "\n",
    "def load_classifier(sub_id):\n",
    "    model_path = ckp_path + 'classifier_{}.hdf5'.format(sub_id)\n",
    "    model = tf.keras.models.load_model(model_path)\n",
    "    return model"
   ]
  },
  {
   "cell_type": "code",
   "execution_count": 0,
   "metadata": {
    "colab": {},
    "colab_type": "code",
    "id": "8y6KxJGXNf9U"
   },
   "outputs": [],
   "source": [
    "sub_11_data = load_data(11)\n",
    "sub_16_data = load_data(16)\n",
    "classifier_11 = load_classifier(11)\n",
    "classifier_16 = load_classifier(16)\n",
    "\n",
    "source_data = sub_11_data\n",
    "target_data = sub_16_data\n",
    "source_classifier = classifier_11\n",
    "target_classifier = classifier_16"
   ]
  },
  {
   "cell_type": "markdown",
   "metadata": {
    "colab_type": "text",
    "id": "oFwh1xPR_wHb"
   },
   "source": [
    "## CycleGAN"
   ]
  },
  {
   "cell_type": "code",
   "execution_count": 0,
   "metadata": {
    "colab": {},
    "colab_type": "code",
    "id": "oE3dmEg5_1fW"
   },
   "outputs": [],
   "source": [
    "class InstanceNormalization(tf.keras.layers.Layer):\n",
    "    \"\"\"Instance Normalization Layer (https://arxiv.org/abs/1607.08022).\"\"\"\n",
    "\n",
    "    def __init__(self, epsilon=1e-5):\n",
    "        super(InstanceNormalization, self).__init__()\n",
    "        self.epsilon = epsilon\n",
    "\n",
    "    def build(self, input_shape):\n",
    "        self.scale = self.add_weight(\n",
    "            name='scale',\n",
    "            shape=input_shape[-1:],\n",
    "            initializer=tf.random_normal_initializer(1., 0.02),\n",
    "            trainable=True)\n",
    "\n",
    "        self.offset = self.add_weight(\n",
    "            name='offset',\n",
    "            shape=input_shape[-1:],\n",
    "            initializer='zeros',\n",
    "            trainable=True)\n",
    "\n",
    "    def call(self, x):\n",
    "        mean, variance = tf.nn.moments(x, axes=[1, 2], keepdims=True)\n",
    "        inv = tf.math.rsqrt(variance + self.epsilon)\n",
    "        normalized = (x - mean) * inv\n",
    "        return self.scale * normalized + self.offset\n",
    "\n",
    "def downsample(filters, size, apply_instancenorm=True):\n",
    "    initializer = tf.random_normal_initializer(0., 0.02)\n",
    "\n",
    "    down_result = tf.keras.Sequential()\n",
    "    down_result.add(\n",
    "        tf.keras.layers.Conv1D(filters, size, strides=2, padding='same',\n",
    "                               kernel_initializer=initializer, use_bias=False)\n",
    "    )\n",
    "\n",
    "    if apply_instancenorm:\n",
    "        down_result.add(InstanceNormalization())\n",
    "\n",
    "    down_result.add(tf.keras.layers.LeakyReLU())\n",
    "\n",
    "    return down_result\n",
    "\n",
    "\n",
    "def upsample(filters, size, apply_dropout=False):\n",
    "    initializer = tf.random_normal_initializer(0., 0.02)\n",
    "    \n",
    "    up_result = tf.keras.Sequential([\n",
    "        tf.keras.layers.Lambda(lambda x: K.expand_dims(x, axis=2)),\n",
    "        tf.keras.layers.Conv2DTranspose(filters=filters, kernel_size=(size, 1), strides=(2, 1), padding='same', kernel_initializer=initializer, use_bias=False),\n",
    "        tf.keras.layers.Lambda(lambda x: K.squeeze(x, axis=2))\n",
    "    ])\n",
    "\n",
    "    up_result.add(InstanceNormalization())\n",
    "\n",
    "    if apply_dropout:\n",
    "        up_result.add(tf.keras.layers.Dropout(0.5))\n",
    "\n",
    "    up_result.add(tf.keras.layers.ReLU())\n",
    "\n",
    "    return up_result\n",
    "\n",
    "def resnet_block(filters, size, input_layer):\n",
    "    initializer = tf.random_normal_initializer(0., 0.02)\n",
    "    # first layer convolutional layer\n",
    "    g = tf.keras.layers.Conv1D(filters, size, padding='same', kernel_initializer=initializer)(input_layer)\n",
    "    g = InstanceNormalization()(g)\n",
    "    g = tf.keras.layers.Activation('relu')(g)\n",
    "    # second cnn\n",
    "    g = tf.keras.layers.Conv1D(filters, size, padding='same', kernel_initializer=initializer)(g)\n",
    "    g = InstanceNormalization()(g)\n",
    "    g = tf.keras.layers.Concatenate()([g, input_layer])\n",
    "    return g"
   ]
  },
  {
   "cell_type": "code",
   "execution_count": 0,
   "metadata": {
    "colab": {},
    "colab_type": "code",
    "id": "EvbaSjF4AB7s"
   },
   "outputs": [],
   "source": [
    "def Generator(input_shape=(128, 9), output_channels=9):\n",
    "    inputs = tf.keras.layers.Input(shape=input_shape)\n",
    "\n",
    "    down_stack = [\n",
    "        downsample(8, 5, apply_instancenorm=False),  # (bs, 64, 8)\n",
    "        downsample(16, 5),  # (bs, 32, 16)\n",
    "        downsample(32, 5),  # (bs, 16, 32)\n",
    "        downsample(32, 5),  # (bs, 8, 32)   \n",
    "    ]\n",
    "\n",
    "    up_stack = [\n",
    "        upsample(32, 5, apply_dropout=True),  # (bs, 16, 64)\n",
    "        upsample(16, 5),  # (bs, 32, 32)\n",
    "        upsample(8, 5),  # (bs, 64, 16)\n",
    "    ]\n",
    "\n",
    "    initializer = tf.random_normal_initializer(0., 0.02)\n",
    "    last = tf.keras.Sequential([\n",
    "        tf.keras.layers.Lambda(lambda x: K.expand_dims(x, axis=2)),\n",
    "        tf.keras.layers.Conv2DTranspose(filters=output_channels, kernel_size=(5, 1), strides=(2, 1), padding='same',  kernel_initializer=initializer, activation='tanh'),\n",
    "        tf.keras.layers.Lambda(lambda x: K.squeeze(x, axis=2))\n",
    "    ])\n",
    "\n",
    "    x = inputs\n",
    "\n",
    "    # Downsampling through the model\n",
    "    skips = []\n",
    "    for down in down_stack:\n",
    "        x = down(x)\n",
    "        skips.append(x)\n",
    "\n",
    "    skips = reversed(skips[:-1])\n",
    "\n",
    "    x = resnet_block(32, 5, input_layer=x)\n",
    "    x = resnet_block(32, 5, input_layer=x)\n",
    "    x = resnet_block(32, 5, input_layer=x)\n",
    "\n",
    "    # Upsampling and establishing the skip connections\n",
    "    for up, skip in zip(up_stack, skips):\n",
    "        x = up(x)\n",
    "        x = tf.keras.layers.Concatenate()([x, skip])\n",
    "\n",
    "    x = last(x) \n",
    "\n",
    "    return tf.keras.Model(inputs=inputs, outputs=x)"
   ]
  },
  {
   "cell_type": "code",
   "execution_count": 0,
   "metadata": {
    "colab": {},
    "colab_type": "code",
    "id": "kyHEcHKNAC-u"
   },
   "outputs": [],
   "source": [
    "def Discriminator(input_shape=(128, 9)):\n",
    "    inputs = tf.keras.layers.Input(shape=input_shape)\n",
    "\n",
    "    x = inputs\n",
    "    x = downsample(8, 5, apply_instancenorm=False)(x)  # (bs, 64, 8)\n",
    "    x = tf.keras.layers.Dropout(0.5)(x)\n",
    "    x = downsample(16, 5)(x)  # (bs, 32, 16)\n",
    "    x = tf.keras.layers.Dropout(0.5)(x)\n",
    "    x = downsample(32, 5)(x)  # (bs, 16, 32)\n",
    "    x = downsample(32, 5)(x)  # (bs, 8, 32)\n",
    "    x = tf.keras.layers.Flatten()(x)\n",
    "    x = tf.keras.layers.Dense(1)(x)\n",
    "\n",
    "    return tf.keras.Model(inputs=inputs, outputs=x)"
   ]
  },
  {
   "cell_type": "markdown",
   "metadata": {
    "colab_type": "text",
    "id": "gJep2IiHAHv8"
   },
   "source": [
    "define 2 generator and 2 discriminator for cyclegan"
   ]
  },
  {
   "cell_type": "code",
   "execution_count": 0,
   "metadata": {
    "colab": {},
    "colab_type": "code",
    "id": "hkNBfk3wAFQc"
   },
   "outputs": [],
   "source": [
    "generator_s2t = Generator(input_shape=(128, 9), output_channels=9)\n",
    "generator_t2s = Generator(input_shape=(128, 9), output_channels=9)\n",
    "\n",
    "discriminator_s = Discriminator(input_shape=(128, 9))\n",
    "discriminator_t = Discriminator(input_shape=(128, 9))"
   ]
  },
  {
   "cell_type": "markdown",
   "metadata": {
    "colab_type": "text",
    "id": "wYBffmucAPVK"
   },
   "source": [
    "define loss function"
   ]
  },
  {
   "cell_type": "code",
   "execution_count": 0,
   "metadata": {
    "colab": {},
    "colab_type": "code",
    "id": "Sk9hBxk-AM3J"
   },
   "outputs": [],
   "source": [
    "LAMBDA = 10\n",
    "crossentropy = tf.keras.losses.BinaryCrossentropy(from_logits=True)\n",
    "\n",
    "\n",
    "def discriminator_loss(disc_real, disc_generated):\n",
    "    real_loss = crossentropy(tf.ones_like(disc_real), disc_real)\n",
    "\n",
    "    generated_loss = crossentropy(\n",
    "        tf.zeros_like(disc_generated), disc_generated)\n",
    "\n",
    "    total_disc_loss = real_loss + generated_loss\n",
    "\n",
    "    return total_disc_loss * 0.5\n",
    "\n",
    "    \n",
    "def generator_loss(disc_generated):\n",
    "    return crossentropy(tf.ones_like(disc_generated), disc_generated)\n",
    "\n",
    "\n",
    "def calc_cycle_loss(real, cycled):\n",
    "    loss1 = tf.reduce_mean(tf.abs(real - cycled))\n",
    "\n",
    "    return LAMBDA * loss1\n",
    "\n",
    "\n",
    "def identity_loss(real, same):\n",
    "    loss = tf.reduce_mean(tf.abs(real - same))\n",
    "    return LAMBDA * 0.5 * loss"
   ]
  },
  {
   "cell_type": "code",
   "execution_count": 0,
   "metadata": {
    "colab": {},
    "colab_type": "code",
    "id": "o7EVWgSXAUTv"
   },
   "outputs": [],
   "source": [
    "generator_s2t_optimizer = tf.keras.optimizers.Adam(2e-4, beta_1=0.5)\n",
    "generator_t2s_optimizer = tf.keras.optimizers.Adam(2e-4, beta_1=0.5)\n",
    "\n",
    "discriminator_s_optimizer = tf.keras.optimizers.Adam(2e-4, beta_1=0.5)\n",
    "discriminator_t_optimizer = tf.keras.optimizers.Adam(2e-4, beta_1=0.5)"
   ]
  },
  {
   "cell_type": "markdown",
   "metadata": {
    "colab_type": "text",
    "id": "l-szgPIZAZzw"
   },
   "source": [
    "Checkpoints"
   ]
  },
  {
   "cell_type": "markdown",
   "metadata": {
    "colab_type": "text",
    "id": "xu7HmFMFBDqz"
   },
   "source": [
    "mount google drive to save checkpoints"
   ]
  },
  {
   "cell_type": "code",
   "execution_count": 0,
   "metadata": {
    "colab": {},
    "colab_type": "code",
    "id": "DDXh1SEbBJz3"
   },
   "outputs": [],
   "source": [
    "checkpoint_path = \"cyclegan/11and16\"\n",
    "\n",
    "ckpt_path = har_uda_root + checkpoint_path\n",
    "\n",
    "ckpt = tf.train.Checkpoint(generator_s2t=generator_s2t,\n",
    "                           generator_t2s=generator_t2s,\n",
    "                           discriminator_s=discriminator_s,\n",
    "                           discriminator_t=discriminator_t,\n",
    "                           generator_s2t_optimizer=generator_s2t_optimizer,\n",
    "                           generator_t2s_optimizer=generator_t2s_optimizer,\n",
    "                           discriminator_s_optimizer=discriminator_s_optimizer,\n",
    "                           discriminator_t_optimizer=discriminator_t_optimizer)\n",
    "\n",
    "ckpt_manager = tf.train.CheckpointManager(ckpt, ckpt_path, max_to_keep=5)\n",
    "\n",
    "# if a checkpoint exists, restore the latest checkpoint.\n",
    "if ckpt_manager.latest_checkpoint:\n",
    "    ckpt.restore(ckpt_manager.latest_checkpoint)\n",
    "    print('Latest checkpoint restored!!')"
   ]
  },
  {
   "cell_type": "code",
   "execution_count": 0,
   "metadata": {
    "colab": {},
    "colab_type": "code",
    "id": "UG2T3q8sBMat"
   },
   "outputs": [],
   "source": [
    "@tf.function\n",
    "def train_step(real_s, real_t, epoch):\n",
    "    with tf.GradientTape(persistent=True) as tape:\n",
    "        fake_t = generator_s2t(real_s, training=True)\n",
    "        cycled_s = generator_t2s(fake_t, training=True)\n",
    "\n",
    "        fake_s = generator_t2s(real_t, training=True)\n",
    "        cycled_t = generator_s2t(fake_s, training=True)\n",
    "\n",
    "        same_s = generator_t2s(real_s, training=True)\n",
    "        same_t = generator_s2t(real_t, training=True)\n",
    "\n",
    "        disc_real_s = discriminator_s(real_s, training=True)\n",
    "        disc_real_t = discriminator_t(real_t, training=True)\n",
    "\n",
    "        disc_fake_s = discriminator_s(fake_s, training=True)\n",
    "        disc_fake_t = discriminator_t(fake_t, training=True)\n",
    "\n",
    "        gen_s2t_loss = generator_loss(disc_fake_t)\n",
    "        gen_t2s_loss = generator_loss(disc_fake_s)\n",
    "\n",
    "        total_cycle_loss = calc_cycle_loss(\n",
    "            real_s, cycled_s) + calc_cycle_loss(real_t, cycled_t)\n",
    "\n",
    "        total_gen_s2t_loss = gen_s2t_loss + \\\n",
    "            total_cycle_loss + identity_loss(real_t, same_t)\n",
    "        total_gen_t2s_loss = gen_t2s_loss + \\\n",
    "            total_cycle_loss + identity_loss(real_s, same_s)\n",
    "\n",
    "        disc_s_loss = discriminator_loss(disc_real_s, disc_fake_s)\n",
    "        disc_t_loss = discriminator_loss(disc_real_t, disc_fake_t)\n",
    "\n",
    "    generator_s2t_gradients = tape.gradient(\n",
    "        total_gen_s2t_loss, generator_s2t.trainable_variables)\n",
    "    generator_t2s_gradients = tape.gradient(\n",
    "        total_gen_t2s_loss, generator_t2s.trainable_variables)\n",
    "\n",
    "    discriminator_s_gradients = tape.gradient(\n",
    "        disc_s_loss, discriminator_s.trainable_variables)\n",
    "    discriminator_t_gradients = tape.gradient(\n",
    "        disc_t_loss, discriminator_t.trainable_variables)\n",
    "\n",
    "    generator_s2t_optimizer.apply_gradients(\n",
    "        zip(generator_s2t_gradients, generator_s2t.trainable_variables))\n",
    "\n",
    "    generator_t2s_optimizer.apply_gradients(\n",
    "        zip(generator_t2s_gradients, generator_t2s.trainable_variables))\n",
    "\n",
    "    discriminator_s_optimizer.apply_gradients(\n",
    "        zip(discriminator_s_gradients, discriminator_s.trainable_variables))\n",
    "\n",
    "    discriminator_t_optimizer.apply_gradients(\n",
    "        zip(discriminator_t_gradients, discriminator_t.trainable_variables))"
   ]
  },
  {
   "cell_type": "code",
   "execution_count": 0,
   "metadata": {
    "colab": {},
    "colab_type": "code",
    "id": "PsUttnfZB0Fr"
   },
   "outputs": [],
   "source": [
    "source_X = tf.data.Dataset.from_tensor_slices(tf.cast(source_data['data_x_train'], tf.float32)).shuffle(64).batch(1)\n",
    "target_X = tf.data.Dataset.from_tensor_slices(tf.cast(target_data['data_x_train'], tf.float32)).shuffle(64).batch(1)"
   ]
  },
  {
   "cell_type": "code",
   "execution_count": 0,
   "metadata": {
    "colab": {},
    "colab_type": "code",
    "id": "rfuRM3BNB-rC"
   },
   "outputs": [],
   "source": [
    "def cmp_win(source_win):\n",
    "    gen_win = generator_s2t(source_win)\n",
    "    cycled_win = generator_t2s(gen_win)\n",
    "\n",
    "    plot_window(source_win[0], fig_title='Original Window')\n",
    "    plot_window(gen_win[0], fig_title='Generated Window')\n",
    "    plot_window(cycled_win[0], fig_title='Cycled Window')"
   ]
  },
  {
   "cell_type": "code",
   "execution_count": 0,
   "metadata": {
    "colab": {},
    "colab_type": "code",
    "id": "Mee6FldbB73o"
   },
   "outputs": [],
   "source": [
    "def fit(epochs=50):\n",
    "    for epoch in range(epochs):\n",
    "        start = time.time()\n",
    "\n",
    "        n = 0\n",
    "        for real_s, real_t in tf.data.Dataset.zip((source_X, target_X)):\n",
    "            print('.', end='')\n",
    "            if (n+1) % 100 == 0:\n",
    "                print()\n",
    "            n += 1\n",
    "            train_step(real_s, real_t, epoch)\n",
    "        print()\n",
    "            \n",
    "        clear_output(wait=True)\n",
    "\n",
    "        # cmp_win(source_sample_window)\n",
    "\n",
    "        if (epoch + 1) % 5 == 0:\n",
    "            ckpt_save_path = ckpt_manager.save()\n",
    "            print('Saving checkpoint for epoch {} at {}'.format(epoch + 1, ckpt_save_path))\n",
    "        \n",
    "        print ('Time taken for epoch {} is {} sec\\n'.format(epoch + 1,\n",
    "                                                      time.time()-start))"
   ]
  },
  {
   "cell_type": "markdown",
   "metadata": {
    "colab_type": "text",
    "id": "2qglkUvdDXAs"
   },
   "source": [
    "train cyclegan"
   ]
  },
  {
   "cell_type": "code",
   "execution_count": 0,
   "metadata": {
    "colab": {
     "base_uri": "https://localhost:8080/",
     "height": 68
    },
    "colab_type": "code",
    "id": "eNd4Le5XDWDi",
    "outputId": "855acdcd-0b18-4b22-d088-c611254693d6"
   },
   "outputs": [
    {
     "name": "stdout",
     "output_type": "stream",
     "text": [
      "Saving checkpoint for epoch 50 at /content/gdrive/My Drive/har-uda/cyclegan/11and16/ckpt-10\n",
      "Time taken for epoch 50 is 23.682013988494873 sec\n",
      "\n"
     ]
    }
   ],
   "source": [
    "fit(50)"
   ]
  },
  {
   "cell_type": "markdown",
   "metadata": {
    "colab_type": "text",
    "id": "ZoP_lhjmUTp2"
   },
   "source": [
    "target2source"
   ]
  },
  {
   "cell_type": "code",
   "execution_count": 0,
   "metadata": {
    "colab": {
     "base_uri": "https://localhost:8080/",
     "height": 34
    },
    "colab_type": "code",
    "id": "Rsu3NishgH3-",
    "outputId": "989cccbd-5630-4496-b3ca-eb2ccd4c4b3a"
   },
   "outputs": [
    {
     "name": "stdout",
     "output_type": "stream",
     "text": [
      "19/19 [==============================] - 0s 9ms/step - loss: 3.2518 - accuracy: 0.4189\n"
     ]
    }
   ],
   "source": [
    "target_x_test = target_data['data_x_test']\n",
    "transfered_target_x_test = generator_t2s(target_x_test)\n",
    "target_y_test = tf.one_hot(target_data['data_y_test'], 6)\n",
    "_, acc = source_classifier.evaluate(transfered_target_x_test, target_y_test, batch_size=4)"
   ]
  },
  {
   "cell_type": "code",
   "execution_count": 0,
   "metadata": {
    "colab": {
     "base_uri": "https://localhost:8080/",
     "height": 119
    },
    "colab_type": "code",
    "id": "dbQNF3_-4xOT",
    "outputId": "be8df5ab-0a86-409b-d6a6-17ccb6f65653"
   },
   "outputs": [
    {
     "name": "stdout",
     "output_type": "stream",
     "text": [
      "[[2 8 0 0 0 0]\n",
      " [3 3 4 0 0 0]\n",
      " [0 1 9 0 0 0]\n",
      " [0 0 0 7 7 0]\n",
      " [7 0 0 6 3 0]\n",
      " [0 0 0 6 1 7]]\n"
     ]
    }
   ],
   "source": [
    "from sklearn.metrics import confusion_matrix\n",
    "target_y_test_pred = source_classifier.predict(transfered_target_x_test)\n",
    "conf_mat = confusion_matrix(target_y_test.numpy().argmax(axis=1), target_y_test_pred.argmax(axis=1))\n",
    "print(conf_mat)"
   ]
  },
  {
   "cell_type": "code",
   "execution_count": 0,
   "metadata": {
    "colab": {},
    "colab_type": "code",
    "id": "H0bgFRZvUM4b"
   },
   "outputs": [],
   "source": [
    "from sklearn.manifold import TSNE\n",
    "def plot_embedding(X, y, d, title=None):\n",
    "    \"\"\"Plot an embedding X with the class label y colored by the domain d.\"\"\"\n",
    "    x_min, x_max = np.min(X, 0), np.max(X, 0)\n",
    "    X = (X - x_min) / (x_max - x_min)\n",
    "\n",
    "    # Plot colors numbers\n",
    "    plt.figure(figsize=(10,10))\n",
    "    ax = plt.subplot(111)\n",
    "    for i in range(X.shape[0]):\n",
    "        # plot colored number\n",
    "        plt.text(X[i, 0], X[i, 1], str(y[i]),\n",
    "                 color=plt.cm.bwr(d[i] / 1.),\n",
    "                 fontdict={'weight': 'bold', 'size': 9})\n",
    "\n",
    "    plt.xticks([]), plt.yticks([])\n",
    "    if title is not None:\n",
    "        plt.title(title)"
   ]
  },
  {
   "cell_type": "code",
   "execution_count": 0,
   "metadata": {
    "colab": {},
    "colab_type": "code",
    "id": "4id_XKHhXnNx"
   },
   "outputs": [],
   "source": [
    "transfered_target_x_train = generator_t2s(target_data['data_x_train'])"
   ]
  },
  {
   "cell_type": "code",
   "execution_count": 0,
   "metadata": {
    "colab": {},
    "colab_type": "code",
    "id": "5-hj4cjFRL1j"
   },
   "outputs": [],
   "source": [
    "extractor = tf.keras.Model(inputs=source_classifier.input, outputs=[layer.output for layer in source_classifier.layers])\n",
    "s_features = extractor(source_data['data_x_train'])[-8]\n",
    "t_features = extractor(target_data['data_x_train'])[-8]\n",
    "transfered_features = extractor(transfered_target_x_train)[-8]"
   ]
  },
  {
   "cell_type": "code",
   "execution_count": 0,
   "metadata": {
    "colab": {},
    "colab_type": "code",
    "id": "Hh_ediEeTnUl"
   },
   "outputs": [],
   "source": [
    "s_y = tf.one_hot(source_data['data_y_train'], 6)\n",
    "t_y = tf.one_hot(target_data['data_y_train'], 6)"
   ]
  },
  {
   "cell_type": "code",
   "execution_count": 0,
   "metadata": {
    "colab": {},
    "colab_type": "code",
    "id": "z_xI6AFJStmh"
   },
   "outputs": [],
   "source": [
    "s_feat = s_features.numpy().reshape(s_features.numpy().shape[0], -1)\n",
    "t_feat = t_features.numpy().reshape(t_features.numpy().shape[0], -1)\n",
    "combined_feat = np.vstack([s_feat, t_feat])\n",
    "combined_y = np.vstack([s_y, t_y])\n",
    "combined_domain = np.vstack([np.tile([1., 0.], [s_feat.shape[0], 1]),\n",
    "        np.tile([0., 1.], [t_feat.shape[0], 1])])"
   ]
  },
  {
   "cell_type": "code",
   "execution_count": 0,
   "metadata": {
    "colab": {
     "base_uri": "https://localhost:8080/",
     "height": 594
    },
    "colab_type": "code",
    "id": "8ZvlC_X88wvL",
    "outputId": "dc4e0130-fe36-467c-9700-882f7470b7a0"
   },
   "outputs": [
    {
     "data": {
      "image/png": "[encoded data removed]",
      "text/plain": [
       "<Figure size 720x720 with 1 Axes>"
      ]
     },
     "metadata": {
      "tags": []
     },
     "output_type": "display_data"
    }
   ],
   "source": [
    "tsne = TSNE(perplexity=30, n_components=2, init='pca', n_iter=3000)\n",
    "test_tsne = tsne.fit_transform(combined_feat)\n",
    "plot_embedding(test_tsne, combined_y.argmax(1), combined_domain.argmax(1), 'domain shift')"
   ]
  },
  {
   "cell_type": "code",
   "execution_count": 0,
   "metadata": {
    "colab": {},
    "colab_type": "code",
    "id": "TtKBC15086fc"
   },
   "outputs": [],
   "source": [
    "trans_feat = transfered_features.numpy().reshape(transfered_features.numpy().shape[0], -1)\n",
    "combined_feat = np.vstack([s_feat, trans_feat])\n",
    "combined_y = np.vstack([s_y, t_y])\n",
    "combined_domain = np.vstack([np.tile([1., 0.], [s_feat.shape[0], 1]),\n",
    "        np.tile([0., 1.], [trans_feat.shape[0], 1])])"
   ]
  },
  {
   "cell_type": "code",
   "execution_count": 0,
   "metadata": {
    "colab": {
     "base_uri": "https://localhost:8080/",
     "height": 594
    },
    "colab_type": "code",
    "id": "ZLr1L0H7-Tz1",
    "outputId": "bcbab339-f7ae-417c-ad73-7dd9ab5dda7f"
   },
   "outputs": [
    {
     "data": {
      "image/png": "[encoded data removed]",
      "text/plain": [
       "<Figure size 720x720 with 1 Axes>"
      ]
     },
     "metadata": {
      "tags": []
     },
     "output_type": "display_data"
    }
   ],
   "source": [
    "tsne = TSNE(perplexity=30, n_components=2, init='pca', n_iter=3000)\n",
    "test_tsne = tsne.fit_transform(combined_feat)\n",
    "plot_embedding(test_tsne, combined_y.argmax(1), combined_domain.argmax(1), 'domain adaptation')"
   ]
  },
  {
   "cell_type": "markdown",
   "metadata": {
    "colab_type": "text",
    "id": "oZajpN92Voeo"
   },
   "source": [
    "source2target"
   ]
  },
  {
   "cell_type": "code",
   "execution_count": 0,
   "metadata": {
    "colab": {
     "base_uri": "https://localhost:8080/",
     "height": 34
    },
    "colab_type": "code",
    "id": "EbzYEOn0Vnsz",
    "outputId": "f3f33444-50d5-44cd-cbd2-f580f71de1be"
   },
   "outputs": [
    {
     "name": "stdout",
     "output_type": "stream",
     "text": [
      "16/16 [==============================] - 0s 7ms/step - loss: 3.0886 - accuracy: 0.4531\n"
     ]
    }
   ],
   "source": [
    "source_x_test = source_data['data_x_test']\n",
    "transfered_source_x_test = generator_s2t(source_x_test)\n",
    "source_y_test = tf.one_hot(source_data['data_y_test'], 6)\n",
    "_, acc = target_classifier.evaluate(transfered_source_x_test, source_y_test, batch_size=4)"
   ]
  },
  {
   "cell_type": "code",
   "execution_count": 0,
   "metadata": {
    "colab": {
     "base_uri": "https://localhost:8080/",
     "height": 119
    },
    "colab_type": "code",
    "id": "T_-P4JCwVrHM",
    "outputId": "bfcea6da-c8d7-4c9c-e925-2922b66e9ded"
   },
   "outputs": [
    {
     "name": "stdout",
     "output_type": "stream",
     "text": [
      "[[ 7  0  5  0  0  0]\n",
      " [ 4  0  7  0  0  0]\n",
      " [ 4  1  4  0  0  0]\n",
      " [ 1  0  0  6  4  0]\n",
      " [ 0  0  0  9  0  0]\n",
      " [ 0  0  0  0  0 12]]\n"
     ]
    }
   ],
   "source": [
    "source_y_test_pred = target_classifier.predict(transfered_source_x_test)\n",
    "conf_mat = confusion_matrix(source_y_test.numpy().argmax(axis=1), source_y_test_pred.argmax(axis=1))\n",
    "print(conf_mat)"
   ]
  },
  {
   "cell_type": "code",
   "execution_count": 0,
   "metadata": {
    "colab": {},
    "colab_type": "code",
    "id": "V5n2HhO6Wvsa"
   },
   "outputs": [],
   "source": [
    "source_x_train = source_data['data_x_train']\n",
    "transfered_source_x_train = generator_s2t(source_x_train)\n",
    "s_y = tf.one_hot(source_data['data_y_train'], 6)\n",
    "t_y = tf.one_hot(target_data['data_y_train'], 6)"
   ]
  },
  {
   "cell_type": "code",
   "execution_count": 0,
   "metadata": {
    "colab": {},
    "colab_type": "code",
    "id": "jjX2Zi9TVx4E"
   },
   "outputs": [],
   "source": [
    "extractor = tf.keras.Model(inputs=target_classifier.input, outputs=[layer.output for layer in target_classifier.layers])\n",
    "s_features = extractor(source_data['data_x_train'])[-8]\n",
    "t_features = extractor(target_data['data_x_train'])[-8]\n",
    "transfered_features = extractor(transfered_source_x_train)[-8]"
   ]
  },
  {
   "cell_type": "code",
   "execution_count": 0,
   "metadata": {
    "colab": {},
    "colab_type": "code",
    "id": "rguccdLGWe2l"
   },
   "outputs": [],
   "source": [
    "s_feat = s_features.numpy().reshape(s_features.numpy().shape[0], -1)\n",
    "t_feat = t_features.numpy().reshape(t_features.numpy().shape[0], -1)\n",
    "combined_feat = np.vstack([s_feat, t_feat])\n",
    "combined_y = np.vstack([s_y, t_y])\n",
    "combined_domain = np.vstack([np.tile([1., 0.], [s_feat.shape[0], 1]),\n",
    "        np.tile([0., 1.], [t_feat.shape[0], 1])])"
   ]
  },
  {
   "cell_type": "code",
   "execution_count": 0,
   "metadata": {
    "colab": {
     "base_uri": "https://localhost:8080/",
     "height": 594
    },
    "colab_type": "code",
    "id": "a1M5MAMiWjUD",
    "outputId": "22e2df58-186e-49a7-ba21-a3108261d921"
   },
   "outputs": [
    {
     "data": {
      "image/png": "[encoded data removed]",
      "text/plain": [
       "<Figure size 720x720 with 1 Axes>"
      ]
     },
     "metadata": {
      "tags": []
     },
     "output_type": "display_data"
    }
   ],
   "source": [
    "tsne = TSNE(perplexity=30, n_components=2, init='pca', n_iter=3000)\n",
    "test_tsne = tsne.fit_transform(combined_feat)\n",
    "plot_embedding(test_tsne, combined_y.argmax(1), combined_domain.argmax(1), 'domain shift')"
   ]
  },
  {
   "cell_type": "code",
   "execution_count": 0,
   "metadata": {
    "colab": {},
    "colab_type": "code",
    "id": "1YJon_bYXDYg"
   },
   "outputs": [],
   "source": [
    "trans_feat = transfered_features.numpy().reshape(transfered_features.numpy().shape[0], -1)\n",
    "combined_feat = np.vstack([trans_feat, t_feat])\n",
    "combined_y = np.vstack([s_y, t_y])\n",
    "combined_domain = np.vstack([np.tile([1., 0.], [trans_feat.shape[0], 1]),\n",
    "        np.tile([0., 1.], [t_feat.shape[0], 1])])"
   ]
  },
  {
   "cell_type": "code",
   "execution_count": 0,
   "metadata": {
    "colab": {
     "base_uri": "https://localhost:8080/",
     "height": 594
    },
    "colab_type": "code",
    "id": "xTtS9YN7YNYy",
    "outputId": "c9a35b57-35aa-4b11-d35a-5f3f0e871397"
   },
   "outputs": [
    {
     "data": {
      "image/png": "[encoded data removed]",
      "text/plain": [
       "<Figure size 720x720 with 1 Axes>"
      ]
     },
     "metadata": {
      "tags": []
     },
     "output_type": "display_data"
    }
   ],
   "source": [
    "tsne = TSNE(perplexity=30, n_components=2, init='pca', n_iter=3000)\n",
    "test_tsne = tsne.fit_transform(combined_feat)\n",
    "plot_embedding(test_tsne, combined_y.argmax(1), combined_domain.argmax(1), 'domain adaptation')"
   ]
  }
 ],
 "metadata": {
  "accelerator": "GPU",
  "colab": {
   "collapsed_sections": [],
   "name": "cyclegan-11and16.ipynb",
   "provenance": []
  },
  "kernelspec": {
   "display_name": "Python 3",
   "language": "python",
   "name": "python3"
  },
  "language_info": {
   "codemirror_mode": {
    "name": "ipython",
    "version": 3
   },
   "file_extension": ".py",
   "mimetype": "text/x-python",
   "name": "python",
   "nbconvert_exporter": "python",
   "pygments_lexer": "ipython3",
   "version": "3.7.7"
  }
 },
 "nbformat": 4,
 "nbformat_minor": 1
}
